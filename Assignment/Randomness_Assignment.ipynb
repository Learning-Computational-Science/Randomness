{
 "cells": [
  {
   "cell_type": "markdown",
   "metadata": {
    "collapsed": false
   },
   "source": [
    "# Randomness Assignment"
   ]
  },
  {
   "cell_type": "markdown",
   "metadata": {},
   "source": [
    "## Problem A\n",
    "Complete text problem 02 from Module 9.2 \n",
    "\n",
    "Determine the area between the curve $f\\left(x\\right) = x^2$ and the x axis between $x=2$ and $x=3$."
   ]
  },
  {
   "cell_type": "markdown",
   "metadata": {},
   "source": [
    "## Problem B\n",
    "Complete text problem 06 from Module 9.2 \n",
    "\n",
    "Determine the value of the integeral $\\int_2^3sin\\left(x^2\\right)$.  Note that this function is both above and below the x axis.  Remember the area below the x-axis subtracts from the integeral.  Also, be sure to graph the anyaltic function as well as compute the area using the methods of module 9.2."
   ]
  },
  {
   "cell_type": "markdown",
   "metadata": {},
   "source": [
    "## Problem C\n",
    "Simular to problem 4 from text Module 9.3 of the text.\n",
    "\n",
    "Generate a set of random numbers with the probability density function $PDF(\\left(x\\right)=2 \\exp(2(t-3))$ for $0\\leqq t \\leqq 3$.  Plot the function and a histogram of your data on the same plot."
   ]
  },
  {
   "cell_type": "markdown",
   "metadata": {},
   "source": [
    "## Problem D\n",
    "Complete Project 7 from module 9.5 of the text.\n",
    "\n",
    "In addition, create an animation of the random walk problem, and run it for 50 time steps.  Save your animation as a file and include it with your solution."
   ]
  },
  {
   "cell_type": "code",
   "execution_count": null,
   "metadata": {
    "collapsed": true
   },
   "outputs": [],
   "source": []
  }
 ],
 "metadata": {
  "anaconda-cloud": {},
  "kernelspec": {
   "display_name": "Python [conda root]",
   "language": "python",
   "name": "conda-root-py"
  },
  "language_info": {
   "codemirror_mode": {
    "name": "ipython",
    "version": 3
   },
   "file_extension": ".py",
   "mimetype": "text/x-python",
   "name": "python",
   "nbconvert_exporter": "python",
   "pygments_lexer": "ipython3",
   "version": "3.5.2"
  }
 },
 "nbformat": 4,
 "nbformat_minor": 0
}
